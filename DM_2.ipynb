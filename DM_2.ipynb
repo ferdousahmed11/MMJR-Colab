{
  "nbformat": 4,
  "nbformat_minor": 0,
  "metadata": {
    "colab": {
      "provenance": [],
      "authorship_tag": "ABX9TyOf8k1gYC/GYjt4b5KXMppC",
      "include_colab_link": true
    },
    "kernelspec": {
      "name": "python3",
      "display_name": "Python 3"
    },
    "language_info": {
      "name": "python"
    },
    "accelerator": "GPU",
    "gpuClass": "standard"
  },
  "cells": [
    {
      "cell_type": "markdown",
      "metadata": {
        "id": "view-in-github",
        "colab_type": "text"
      },
      "source": [
        "<a href=\"https://colab.research.google.com/github/ferdousahmed11/MMJR-Colab/blob/main/DM_2.ipynb\" target=\"_parent\"><img src=\"https://colab.research.google.com/assets/colab-badge.svg\" alt=\"Open In Colab\"/></a>"
      ]
    },
    {
      "cell_type": "code",
      "execution_count": 1,
      "metadata": {
        "colab": {
          "base_uri": "https://localhost:8080/"
        },
        "id": "XXpm2e80XTyP",
        "outputId": "9f4bbca2-bc02-450b-e3d2-82d6c7fdc68c"
      },
      "outputs": [
        {
          "output_type": "stream",
          "name": "stdout",
          "text": [
            "<class 'int'>\n"
          ]
        }
      ],
      "source": [
        "a=1\n",
        "print(type(a))"
      ]
    },
    {
      "cell_type": "code",
      "source": [
        "a=1.0\n",
        "print(type(a))"
      ],
      "metadata": {
        "colab": {
          "base_uri": "https://localhost:8080/"
        },
        "id": "t-qaTrIyXoFl",
        "outputId": "9992c9f3-5136-47b0-d265-d71f2957adbc"
      },
      "execution_count": 3,
      "outputs": [
        {
          "output_type": "stream",
          "name": "stdout",
          "text": [
            "<class 'float'>\n",
            "<class 'float'>\n"
          ]
        }
      ]
    },
    {
      "cell_type": "code",
      "source": [
        "a='hello'\n",
        "print(type(a))"
      ],
      "metadata": {
        "colab": {
          "base_uri": "https://localhost:8080/"
        },
        "id": "aw-KmxxmX8l2",
        "outputId": "1a6fb544-60b7-46e6-8661-e86613904457"
      },
      "execution_count": 4,
      "outputs": [
        {
          "output_type": "stream",
          "name": "stdout",
          "text": [
            "<class 'str'>\n"
          ]
        }
      ]
    },
    {
      "cell_type": "code",
      "source": [
        "a,b,c='red','green','yellow'\n",
        "print(a)\n",
        "print(b)"
      ],
      "metadata": {
        "colab": {
          "base_uri": "https://localhost:8080/"
        },
        "id": "rNvhteVJYA_c",
        "outputId": "2fec3f05-dda0-4347-8453-06f8ffd69ca5"
      },
      "execution_count": 5,
      "outputs": [
        {
          "output_type": "stream",
          "name": "stdout",
          "text": [
            "red\n",
            "green\n"
          ]
        }
      ]
    },
    {
      "cell_type": "code",
      "source": [
        "x=[1,2,3]\n",
        "print(x[0])\n",
        "print(x[1])"
      ],
      "metadata": {
        "colab": {
          "base_uri": "https://localhost:8080/"
        },
        "id": "9BbmFuYZYn92",
        "outputId": "96adbc0b-7cb8-42bc-9080-a3cddfb9ab60"
      },
      "execution_count": 6,
      "outputs": [
        {
          "output_type": "stream",
          "name": "stdout",
          "text": [
            "1\n",
            "2\n"
          ]
        }
      ]
    },
    {
      "cell_type": "code",
      "source": [
        "b=float(12)\n",
        "print(b)\n",
        "print(\"the value of \",b)"
      ],
      "metadata": {
        "colab": {
          "base_uri": "https://localhost:8080/"
        },
        "id": "sW8GfYVnY8Um",
        "outputId": "65657f15-e628-436f-b181-9ebe46fcf3bf"
      },
      "execution_count": 8,
      "outputs": [
        {
          "output_type": "stream",
          "name": "stdout",
          "text": [
            "12.0\n",
            "the value of  12.0\n"
          ]
        }
      ]
    },
    {
      "cell_type": "code",
      "source": [
        "s=\"\"\"i live in dhaka\n",
        "green is my fav\"\"\"\n",
        "print(s)\n"
      ],
      "metadata": {
        "colab": {
          "base_uri": "https://localhost:8080/"
        },
        "id": "ZWzTOECJZSFs",
        "outputId": "52761d8a-6011-466a-9b1a-d8f52d47bbb9"
      },
      "execution_count": 11,
      "outputs": [
        {
          "output_type": "stream",
          "name": "stdout",
          "text": [
            "i live in dhaka\n",
            "green is my fav\n"
          ]
        }
      ]
    },
    {
      "cell_type": "code",
      "source": [
        "for x in \"apple\":\n",
        "  print(x)"
      ],
      "metadata": {
        "colab": {
          "base_uri": "https://localhost:8080/"
        },
        "id": "G8Xs_xMbaAT0",
        "outputId": "74645a06-b823-4d0d-ce68-0ec41fbb7086"
      },
      "execution_count": 14,
      "outputs": [
        {
          "output_type": "stream",
          "name": "stdout",
          "text": [
            "a\n",
            "p\n",
            "p\n",
            "l\n",
            "e\n"
          ]
        }
      ]
    },
    {
      "cell_type": "code",
      "source": [
        "text='hello,ferdous.this is my program'\n",
        "print(text[6:13])\n",
        "print(text[:13])\n",
        "print(text[13:])\n",
        "print(text.upper())\n",
        "print(text.replace('hello','hi'))\n",
        "if \"ferdous\" in text:\n",
        "  print(\"yes,'ferdous'is present\")"
      ],
      "metadata": {
        "colab": {
          "base_uri": "https://localhost:8080/"
        },
        "id": "K-bsa_qEaNCz",
        "outputId": "2cf719f6-92ca-49b8-ee04-bc2ea4376b6a"
      },
      "execution_count": 23,
      "outputs": [
        {
          "output_type": "stream",
          "name": "stdout",
          "text": [
            "ferdous\n",
            "hello,ferdous\n",
            ".this is my program\n",
            "HELLO,FERDOUS.THIS IS MY PROGRAM\n",
            "hi,ferdous.this is my program\n",
            "yes,'ferdous'is present\n"
          ]
        }
      ]
    },
    {
      "cell_type": "code",
      "source": [
        "print(bool('hello'))\n",
        "print(bool('0'))\n",
        "print(bool(''))"
      ],
      "metadata": {
        "id": "K8Ffz5MbcFrF"
      },
      "execution_count": null,
      "outputs": []
    },
    {
      "cell_type": "code",
      "source": [
        "i=1\n",
        "while i<5:\n",
        "  print(i,end=\"\")\n",
        "  i+=1\n",
        "  print(\"covid\")\n",
        "print('covid')"
      ],
      "metadata": {
        "colab": {
          "base_uri": "https://localhost:8080/"
        },
        "id": "2J4YpHDQeZZ9",
        "outputId": "86571333-20a7-4338-fc9b-af334fe62d44"
      },
      "execution_count": 30,
      "outputs": [
        {
          "output_type": "stream",
          "name": "stdout",
          "text": [
            "1covid\n",
            "2covid\n",
            "3covid\n",
            "4covid\n",
            "covid\n"
          ]
        }
      ]
    },
    {
      "cell_type": "code",
      "source": [
        "n=[1,4,7,2,5,8]\n",
        "for v in n:\n",
        "  print(v) "
      ],
      "metadata": {
        "colab": {
          "base_uri": "https://localhost:8080/"
        },
        "id": "jso3iq7ffLaU",
        "outputId": "9c58b86d-d115-495c-8db3-5bd9ee068d7e"
      },
      "execution_count": 32,
      "outputs": [
        {
          "output_type": "stream",
          "name": "stdout",
          "text": [
            "1\n",
            "4\n",
            "7\n",
            "2\n",
            "5\n",
            "8\n"
          ]
        }
      ]
    }
  ]
}